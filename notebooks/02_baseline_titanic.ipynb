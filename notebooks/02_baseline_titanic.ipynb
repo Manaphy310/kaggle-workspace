{
 "cells": [
  {
   "cell_type": "markdown",
   "metadata": {},
   "source": [
    "# Titanic - Baseline Model\n",
    "\n",
    "このノートブックでは、シンプルなベースラインモデルを構築し、初回提出を行います。\n",
    "\n",
    "## 目標\n",
    "- 基本的な前処理を実装\n",
    "- シンプルなモデルで予測\n",
    "- 提出ファイルを作成"
   ]
  },
  {
   "cell_type": "code",
   "execution_count": 1,
   "metadata": {},
   "outputs": [],
   "source": [
    "# ライブラリのインポート\n",
    "import pandas as pd\n",
    "import numpy as np\n",
    "import matplotlib.pyplot as plt\n",
    "import seaborn as sns\n",
    "from sklearn.model_selection import train_test_split, cross_val_score\n",
    "from sklearn.ensemble import RandomForestClassifier\n",
    "from sklearn.metrics import accuracy_score, classification_report, confusion_matrix\n",
    "\n",
    "# 警告を非表示\n",
    "import warnings\n",
    "warnings.filterwarnings('ignore')\n",
    "\n",
    "# 表示設定\n",
    "pd.set_option('display.max_columns', None)\n",
    "%matplotlib inline"
   ]
  },
  {
   "cell_type": "markdown",
   "metadata": {},
   "source": [
    "## 1. データの読み込み"
   ]
  },
  {
   "cell_type": "code",
   "execution_count": 2,
   "metadata": {},
   "outputs": [
    {
     "name": "stdout",
     "output_type": "stream",
     "text": [
      "訓練データサイズ: (891, 12)\n",
      "テストデータサイズ: (418, 11)\n"
     ]
    }
   ],
   "source": [
    "# データの読み込み\n",
    "train = pd.read_csv('../data/raw/train.csv')\n",
    "test = pd.read_csv('../data/raw/test.csv')\n",
    "\n",
    "print(f'訓練データサイズ: {train.shape}')\n",
    "print(f'テストデータサイズ: {test.shape}')\n",
    "\n",
    "# テストデータのIDを保存（提出時に必要）\n",
    "test_ids = test['PassengerId'].copy()"
   ]
  },
  {
   "cell_type": "code",
   "execution_count": 3,
   "metadata": {},
   "outputs": [
    {
     "data": {
      "text/html": [
       "<div>\n",
       "<style scoped>\n",
       "    .dataframe tbody tr th:only-of-type {\n",
       "        vertical-align: middle;\n",
       "    }\n",
       "\n",
       "    .dataframe tbody tr th {\n",
       "        vertical-align: top;\n",
       "    }\n",
       "\n",
       "    .dataframe thead th {\n",
       "        text-align: right;\n",
       "    }\n",
       "</style>\n",
       "<table border=\"1\" class=\"dataframe\">\n",
       "  <thead>\n",
       "    <tr style=\"text-align: right;\">\n",
       "      <th></th>\n",
       "      <th>PassengerId</th>\n",
       "      <th>Survived</th>\n",
       "      <th>Pclass</th>\n",
       "      <th>Name</th>\n",
       "      <th>Sex</th>\n",
       "      <th>Age</th>\n",
       "      <th>SibSp</th>\n",
       "      <th>Parch</th>\n",
       "      <th>Ticket</th>\n",
       "      <th>Fare</th>\n",
       "      <th>Cabin</th>\n",
       "      <th>Embarked</th>\n",
       "    </tr>\n",
       "  </thead>\n",
       "  <tbody>\n",
       "    <tr>\n",
       "      <th>0</th>\n",
       "      <td>1</td>\n",
       "      <td>0</td>\n",
       "      <td>3</td>\n",
       "      <td>Braund, Mr. Owen Harris</td>\n",
       "      <td>male</td>\n",
       "      <td>22.0</td>\n",
       "      <td>1</td>\n",
       "      <td>0</td>\n",
       "      <td>A/5 21171</td>\n",
       "      <td>7.2500</td>\n",
       "      <td>NaN</td>\n",
       "      <td>S</td>\n",
       "    </tr>\n",
       "    <tr>\n",
       "      <th>1</th>\n",
       "      <td>2</td>\n",
       "      <td>1</td>\n",
       "      <td>1</td>\n",
       "      <td>Cumings, Mrs. John Bradley (Florence Briggs Th...</td>\n",
       "      <td>female</td>\n",
       "      <td>38.0</td>\n",
       "      <td>1</td>\n",
       "      <td>0</td>\n",
       "      <td>PC 17599</td>\n",
       "      <td>71.2833</td>\n",
       "      <td>C85</td>\n",
       "      <td>C</td>\n",
       "    </tr>\n",
       "    <tr>\n",
       "      <th>2</th>\n",
       "      <td>3</td>\n",
       "      <td>1</td>\n",
       "      <td>3</td>\n",
       "      <td>Heikkinen, Miss. Laina</td>\n",
       "      <td>female</td>\n",
       "      <td>26.0</td>\n",
       "      <td>0</td>\n",
       "      <td>0</td>\n",
       "      <td>STON/O2. 3101282</td>\n",
       "      <td>7.9250</td>\n",
       "      <td>NaN</td>\n",
       "      <td>S</td>\n",
       "    </tr>\n",
       "    <tr>\n",
       "      <th>3</th>\n",
       "      <td>4</td>\n",
       "      <td>1</td>\n",
       "      <td>1</td>\n",
       "      <td>Futrelle, Mrs. Jacques Heath (Lily May Peel)</td>\n",
       "      <td>female</td>\n",
       "      <td>35.0</td>\n",
       "      <td>1</td>\n",
       "      <td>0</td>\n",
       "      <td>113803</td>\n",
       "      <td>53.1000</td>\n",
       "      <td>C123</td>\n",
       "      <td>S</td>\n",
       "    </tr>\n",
       "    <tr>\n",
       "      <th>4</th>\n",
       "      <td>5</td>\n",
       "      <td>0</td>\n",
       "      <td>3</td>\n",
       "      <td>Allen, Mr. William Henry</td>\n",
       "      <td>male</td>\n",
       "      <td>35.0</td>\n",
       "      <td>0</td>\n",
       "      <td>0</td>\n",
       "      <td>373450</td>\n",
       "      <td>8.0500</td>\n",
       "      <td>NaN</td>\n",
       "      <td>S</td>\n",
       "    </tr>\n",
       "  </tbody>\n",
       "</table>\n",
       "</div>"
      ],
      "text/plain": [
       "   PassengerId  Survived  Pclass  \\\n",
       "0            1         0       3   \n",
       "1            2         1       1   \n",
       "2            3         1       3   \n",
       "3            4         1       1   \n",
       "4            5         0       3   \n",
       "\n",
       "                                                Name     Sex   Age  SibSp  \\\n",
       "0                            Braund, Mr. Owen Harris    male  22.0      1   \n",
       "1  Cumings, Mrs. John Bradley (Florence Briggs Th...  female  38.0      1   \n",
       "2                             Heikkinen, Miss. Laina  female  26.0      0   \n",
       "3       Futrelle, Mrs. Jacques Heath (Lily May Peel)  female  35.0      1   \n",
       "4                           Allen, Mr. William Henry    male  35.0      0   \n",
       "\n",
       "   Parch            Ticket     Fare Cabin Embarked  \n",
       "0      0         A/5 21171   7.2500   NaN        S  \n",
       "1      0          PC 17599  71.2833   C85        C  \n",
       "2      0  STON/O2. 3101282   7.9250   NaN        S  \n",
       "3      0            113803  53.1000  C123        S  \n",
       "4      0            373450   8.0500   NaN        S  "
      ]
     },
     "execution_count": 3,
     "metadata": {},
     "output_type": "execute_result"
    }
   ],
   "source": [
    "train.head()"
   ]
  },
  {
   "cell_type": "markdown",
   "metadata": {},
   "source": [
    "## 2. 特徴量エンジニアリング\n",
    "\n",
    "EDAで得た知見を基に、有効な特徴量を作成します。"
   ]
  },
  {
   "cell_type": "code",
   "execution_count": 4,
   "metadata": {},
   "outputs": [
    {
     "name": "stdout",
     "output_type": "stream",
     "text": [
      "特徴量エンジニアリング完了\n",
      "訓練データサイズ: (891, 17)\n",
      "テストデータサイズ: (418, 16)\n"
     ]
    }
   ],
   "source": [
    "def feature_engineering(df):\n",
    "    \"\"\"\n",
    "    特徴量エンジニアリングを実施\n",
    "    \"\"\"\n",
    "    df = df.copy()\n",
    "    \n",
    "    # 1. 家族サイズ\n",
    "    df['FamilySize'] = df['SibSp'] + df['Parch'] + 1\n",
    "    \n",
    "    # 2. 単身者フラグ\n",
    "    df['IsAlone'] = (df['FamilySize'] == 1).astype(int)\n",
    "    \n",
    "    # 3. 名前からタイトルを抽出\n",
    "    df['Title'] = df['Name'].str.extract(' ([A-Za-z]+)\\.', expand=False)\n",
    "    \n",
    "    # タイトルを統合（出現頻度が少ないものをまとめる）\n",
    "    df['Title'] = df['Title'].replace(['Lady', 'Countess', 'Capt', 'Col', 'Don', \n",
    "                                        'Dr', 'Major', 'Rev', 'Sir', 'Jonkheer', 'Dona'], 'Rare')\n",
    "    df['Title'] = df['Title'].replace('Mlle', 'Miss')\n",
    "    df['Title'] = df['Title'].replace('Ms', 'Miss')\n",
    "    df['Title'] = df['Title'].replace('Mme', 'Mrs')\n",
    "    \n",
    "    # 4. 年齢の欠損値をタイトルごとの中央値で補完\n",
    "    title_age_median = df.groupby('Title')['Age'].transform('median')\n",
    "    df['Age'] = df['Age'].fillna(title_age_median)\n",
    "    \n",
    "    # 5. 年齢をカテゴリ化\n",
    "    df['AgeGroup'] = pd.cut(df['Age'], bins=[0, 12, 18, 35, 60, 100], \n",
    "                            labels=['Child', 'Teen', 'Adult', 'Middle', 'Senior'])\n",
    "    \n",
    "    # 6. 運賃の欠損値を補完（中央値）\n",
    "    df['Fare'] = df['Fare'].fillna(df['Fare'].median())\n",
    "    \n",
    "    # 7. 運賃をカテゴリ化\n",
    "    df['FareGroup'] = pd.qcut(df['Fare'], q=4, labels=['Low', 'Medium', 'High', 'VeryHigh'], duplicates='drop')\n",
    "    \n",
    "    # 8. 乗船港の欠損値を補完（最頻値）\n",
    "    df['Embarked'] = df['Embarked'].fillna(df['Embarked'].mode()[0])\n",
    "    \n",
    "    return df\n",
    "\n",
    "# 特徴量エンジニアリングを適用\n",
    "train_processed = feature_engineering(train)\n",
    "test_processed = feature_engineering(test)\n",
    "\n",
    "print(\"特徴量エンジニアリング完了\")\n",
    "print(f\"訓練データサイズ: {train_processed.shape}\")\n",
    "print(f\"テストデータサイズ: {test_processed.shape}\")"
   ]
  },
  {
   "cell_type": "code",
   "execution_count": 5,
   "metadata": {},
   "outputs": [
    {
     "data": {
      "text/html": [
       "<div>\n",
       "<style scoped>\n",
       "    .dataframe tbody tr th:only-of-type {\n",
       "        vertical-align: middle;\n",
       "    }\n",
       "\n",
       "    .dataframe tbody tr th {\n",
       "        vertical-align: top;\n",
       "    }\n",
       "\n",
       "    .dataframe thead th {\n",
       "        text-align: right;\n",
       "    }\n",
       "</style>\n",
       "<table border=\"1\" class=\"dataframe\">\n",
       "  <thead>\n",
       "    <tr style=\"text-align: right;\">\n",
       "      <th></th>\n",
       "      <th>Name</th>\n",
       "      <th>Title</th>\n",
       "      <th>Age</th>\n",
       "      <th>AgeGroup</th>\n",
       "      <th>FamilySize</th>\n",
       "      <th>IsAlone</th>\n",
       "    </tr>\n",
       "  </thead>\n",
       "  <tbody>\n",
       "    <tr>\n",
       "      <th>0</th>\n",
       "      <td>Braund, Mr. Owen Harris</td>\n",
       "      <td>Mr</td>\n",
       "      <td>22.0</td>\n",
       "      <td>Adult</td>\n",
       "      <td>2</td>\n",
       "      <td>0</td>\n",
       "    </tr>\n",
       "    <tr>\n",
       "      <th>1</th>\n",
       "      <td>Cumings, Mrs. John Bradley (Florence Briggs Th...</td>\n",
       "      <td>Mrs</td>\n",
       "      <td>38.0</td>\n",
       "      <td>Middle</td>\n",
       "      <td>2</td>\n",
       "      <td>0</td>\n",
       "    </tr>\n",
       "    <tr>\n",
       "      <th>2</th>\n",
       "      <td>Heikkinen, Miss. Laina</td>\n",
       "      <td>Miss</td>\n",
       "      <td>26.0</td>\n",
       "      <td>Adult</td>\n",
       "      <td>1</td>\n",
       "      <td>1</td>\n",
       "    </tr>\n",
       "    <tr>\n",
       "      <th>3</th>\n",
       "      <td>Futrelle, Mrs. Jacques Heath (Lily May Peel)</td>\n",
       "      <td>Mrs</td>\n",
       "      <td>35.0</td>\n",
       "      <td>Adult</td>\n",
       "      <td>2</td>\n",
       "      <td>0</td>\n",
       "    </tr>\n",
       "    <tr>\n",
       "      <th>4</th>\n",
       "      <td>Allen, Mr. William Henry</td>\n",
       "      <td>Mr</td>\n",
       "      <td>35.0</td>\n",
       "      <td>Adult</td>\n",
       "      <td>1</td>\n",
       "      <td>1</td>\n",
       "    </tr>\n",
       "    <tr>\n",
       "      <th>5</th>\n",
       "      <td>Moran, Mr. James</td>\n",
       "      <td>Mr</td>\n",
       "      <td>30.0</td>\n",
       "      <td>Adult</td>\n",
       "      <td>1</td>\n",
       "      <td>1</td>\n",
       "    </tr>\n",
       "    <tr>\n",
       "      <th>6</th>\n",
       "      <td>McCarthy, Mr. Timothy J</td>\n",
       "      <td>Mr</td>\n",
       "      <td>54.0</td>\n",
       "      <td>Middle</td>\n",
       "      <td>1</td>\n",
       "      <td>1</td>\n",
       "    </tr>\n",
       "    <tr>\n",
       "      <th>7</th>\n",
       "      <td>Palsson, Master. Gosta Leonard</td>\n",
       "      <td>Master</td>\n",
       "      <td>2.0</td>\n",
       "      <td>Child</td>\n",
       "      <td>5</td>\n",
       "      <td>0</td>\n",
       "    </tr>\n",
       "    <tr>\n",
       "      <th>8</th>\n",
       "      <td>Johnson, Mrs. Oscar W (Elisabeth Vilhelmina Berg)</td>\n",
       "      <td>Mrs</td>\n",
       "      <td>27.0</td>\n",
       "      <td>Adult</td>\n",
       "      <td>3</td>\n",
       "      <td>0</td>\n",
       "    </tr>\n",
       "    <tr>\n",
       "      <th>9</th>\n",
       "      <td>Nasser, Mrs. Nicholas (Adele Achem)</td>\n",
       "      <td>Mrs</td>\n",
       "      <td>14.0</td>\n",
       "      <td>Teen</td>\n",
       "      <td>2</td>\n",
       "      <td>0</td>\n",
       "    </tr>\n",
       "  </tbody>\n",
       "</table>\n",
       "</div>"
      ],
      "text/plain": [
       "                                                Name   Title   Age AgeGroup  \\\n",
       "0                            Braund, Mr. Owen Harris      Mr  22.0    Adult   \n",
       "1  Cumings, Mrs. John Bradley (Florence Briggs Th...     Mrs  38.0   Middle   \n",
       "2                             Heikkinen, Miss. Laina    Miss  26.0    Adult   \n",
       "3       Futrelle, Mrs. Jacques Heath (Lily May Peel)     Mrs  35.0    Adult   \n",
       "4                           Allen, Mr. William Henry      Mr  35.0    Adult   \n",
       "5                                   Moran, Mr. James      Mr  30.0    Adult   \n",
       "6                            McCarthy, Mr. Timothy J      Mr  54.0   Middle   \n",
       "7                     Palsson, Master. Gosta Leonard  Master   2.0    Child   \n",
       "8  Johnson, Mrs. Oscar W (Elisabeth Vilhelmina Berg)     Mrs  27.0    Adult   \n",
       "9                Nasser, Mrs. Nicholas (Adele Achem)     Mrs  14.0     Teen   \n",
       "\n",
       "   FamilySize  IsAlone  \n",
       "0           2        0  \n",
       "1           2        0  \n",
       "2           1        1  \n",
       "3           2        0  \n",
       "4           1        1  \n",
       "5           1        1  \n",
       "6           1        1  \n",
       "7           5        0  \n",
       "8           3        0  \n",
       "9           2        0  "
      ]
     },
     "execution_count": 5,
     "metadata": {},
     "output_type": "execute_result"
    }
   ],
   "source": [
    "# 作成した特徴量を確認\n",
    "train_processed[['Name', 'Title', 'Age', 'AgeGroup', 'FamilySize', 'IsAlone']].head(10)"
   ]
  },
  {
   "cell_type": "markdown",
   "metadata": {},
   "source": [
    "## 3. データの前処理"
   ]
  },
  {
   "cell_type": "code",
   "execution_count": 6,
   "metadata": {},
   "outputs": [
    {
     "name": "stdout",
     "output_type": "stream",
     "text": [
      "訓練データ特徴量: (891, 21)\n",
      "訓練データ目的変数: (891,)\n",
      "テストデータ特徴量: (418, 21)\n"
     ]
    }
   ],
   "source": [
    "def preprocess_data(df, is_train=True):\n",
    "    \"\"\"\n",
    "    モデル学習用にデータを前処理\n",
    "    \"\"\"\n",
    "    df = df.copy()\n",
    "    \n",
    "    # 不要なカラムを削除\n",
    "    drop_columns = ['PassengerId', 'Name', 'Ticket', 'Cabin']\n",
    "    df = df.drop(columns=drop_columns, errors='ignore')\n",
    "    \n",
    "    # カテゴリ変数をOne-Hotエンコーディング\n",
    "    categorical_features = ['Sex', 'Embarked', 'Title', 'AgeGroup', 'FareGroup']\n",
    "    df = pd.get_dummies(df, columns=categorical_features, drop_first=True)\n",
    "    \n",
    "    # 目的変数を分離（訓練データの場合）\n",
    "    if is_train and 'Survived' in df.columns:\n",
    "        y = df['Survived']\n",
    "        X = df.drop(columns=['Survived'])\n",
    "        return X, y\n",
    "    else:\n",
    "        return df\n",
    "\n",
    "# 訓練データの前処理\n",
    "X, y = preprocess_data(train_processed, is_train=True)\n",
    "\n",
    "# テストデータの前処理\n",
    "X_test = preprocess_data(test_processed, is_train=False)\n",
    "\n",
    "# 訓練データとテストデータで特徴量を揃える\n",
    "# （One-Hotエンコーディングで列数が異なる可能性があるため）\n",
    "X, X_test = X.align(X_test, join='left', axis=1, fill_value=0)\n",
    "\n",
    "print(f\"訓練データ特徴量: {X.shape}\")\n",
    "print(f\"訓練データ目的変数: {y.shape}\")\n",
    "print(f\"テストデータ特徴量: {X_test.shape}\")"
   ]
  },
  {
   "cell_type": "code",
   "execution_count": 7,
   "metadata": {},
   "outputs": [
    {
     "name": "stdout",
     "output_type": "stream",
     "text": [
      "特徴量一覧:\n",
      "['Pclass', 'Age', 'SibSp', 'Parch', 'Fare', 'FamilySize', 'IsAlone', 'Sex_male', 'Embarked_Q', 'Embarked_S', 'Title_Miss', 'Title_Mr', 'Title_Mrs', 'Title_Rare', 'AgeGroup_Teen', 'AgeGroup_Adult', 'AgeGroup_Middle', 'AgeGroup_Senior', 'FareGroup_Medium', 'FareGroup_High', 'FareGroup_VeryHigh']\n"
     ]
    }
   ],
   "source": [
    "# 特徴量の確認\n",
    "print(\"特徴量一覧:\")\n",
    "print(X.columns.tolist())"
   ]
  },
  {
   "cell_type": "markdown",
   "metadata": {},
   "source": [
    "## 4. モデルの訓練と評価"
   ]
  },
  {
   "cell_type": "code",
   "execution_count": 8,
   "metadata": {},
   "outputs": [
    {
     "name": "stdout",
     "output_type": "stream",
     "text": [
      "訓練データ: (712, 21)\n",
      "検証データ: (179, 21)\n"
     ]
    }
   ],
   "source": [
    "# 訓練データと検証データに分割\n",
    "X_train, X_valid, y_train, y_valid = train_test_split(\n",
    "    X, y, test_size=0.2, random_state=42, stratify=y\n",
    ")\n",
    "\n",
    "print(f\"訓練データ: {X_train.shape}\")\n",
    "print(f\"検証データ: {X_valid.shape}\")"
   ]
  },
  {
   "cell_type": "code",
   "execution_count": 9,
   "metadata": {},
   "outputs": [
    {
     "name": "stdout",
     "output_type": "stream",
     "text": [
      "モデル訓練完了\n"
     ]
    }
   ],
   "source": [
    "# Random Forestモデルの訓練\n",
    "model = RandomForestClassifier(\n",
    "    n_estimators=100,\n",
    "    max_depth=5,\n",
    "    min_samples_split=10,\n",
    "    min_samples_leaf=4,\n",
    "    random_state=42,\n",
    "    n_jobs=-1\n",
    ")\n",
    "\n",
    "model.fit(X_train, y_train)\n",
    "print(\"モデル訓練完了\")"
   ]
  },
  {
   "cell_type": "code",
   "execution_count": 10,
   "metadata": {},
   "outputs": [
    {
     "name": "stdout",
     "output_type": "stream",
     "text": [
      "検証データの精度: 0.8156\n",
      "\n",
      "分類レポート:\n",
      "              precision    recall  f1-score   support\n",
      "\n",
      "    Deceased       0.83      0.88      0.85       110\n",
      "    Survived       0.79      0.71      0.75        69\n",
      "\n",
      "    accuracy                           0.82       179\n",
      "   macro avg       0.81      0.80      0.80       179\n",
      "weighted avg       0.81      0.82      0.81       179\n",
      "\n"
     ]
    }
   ],
   "source": [
    "# 検証データで予測\n",
    "y_pred = model.predict(X_valid)\n",
    "\n",
    "# 精度を計算\n",
    "accuracy = accuracy_score(y_valid, y_pred)\n",
    "print(f\"検証データの精度: {accuracy:.4f}\")\n",
    "print(f\"\\n分類レポート:\")\n",
    "print(classification_report(y_valid, y_pred, target_names=['Deceased', 'Survived']))"
   ]
  },
  {
   "cell_type": "code",
   "execution_count": 11,
   "metadata": {},
   "outputs": [
    {
     "data": {
      "image/png": "[encoded data removed]",
      "text/plain": [
       "<Figure size 800x600 with 2 Axes>"
      ]
     },
     "metadata": {},
     "output_type": "display_data"
    }
   ],
   "source": [
    "# 混同行列\n",
    "cm = confusion_matrix(y_valid, y_pred)\n",
    "plt.figure(figsize=(8, 6))\n",
    "sns.heatmap(cm, annot=True, fmt='d', cmap='Blues', \n",
    "            xticklabels=['Deceased', 'Survived'], yticklabels=['Deceased', 'Survived'])\n",
    "plt.title('Confusion Matrix')\n",
    "plt.ylabel('Actual')\n",
    "plt.xlabel('Predicted')\n",
    "plt.show()"
   ]
  },
  {
   "cell_type": "code",
   "execution_count": 12,
   "metadata": {},
   "outputs": [
    {
     "name": "stdout",
     "output_type": "stream",
     "text": [
      "\n",
      "クロスバリデーションスコア: [0.8547486  0.8258427  0.8258427  0.79775281 0.85393258]\n",
      "平均スコア: 0.8316 (+/- 0.0212)\n"
     ]
    }
   ],
   "source": [
    "# クロスバリデーション\n",
    "cv_scores = cross_val_score(model, X, y, cv=5, scoring='accuracy')\n",
    "print(f\"\\nクロスバリデーションスコア: {cv_scores}\")\n",
    "print(f\"平均スコア: {cv_scores.mean():.4f} (+/- {cv_scores.std():.4f})\")"
   ]
  },
  {
   "cell_type": "code",
   "execution_count": 13,
   "metadata": {},
   "outputs": [
    {
     "name": "stdout",
     "output_type": "stream",
     "text": [
      "\n",
      "特徴量の重要度 (Top 15):\n",
      "               feature  importance\n",
      "7             Sex_male    0.247449\n",
      "11            Title_Mr    0.189353\n",
      "4                 Fare    0.115340\n",
      "0               Pclass    0.090099\n",
      "12           Title_Mrs    0.062835\n",
      "1                  Age    0.061964\n",
      "10          Title_Miss    0.057580\n",
      "5           FamilySize    0.050365\n",
      "2                SibSp    0.029394\n",
      "20  FareGroup_VeryHigh    0.024713\n",
      "3                Parch    0.015403\n",
      "9           Embarked_S    0.012912\n",
      "19      FareGroup_High    0.008540\n",
      "6              IsAlone    0.006587\n",
      "15      AgeGroup_Adult    0.005733\n"
     ]
    },
    {
     "data": {
      "image/png": "[encoded data removed]",
      "text/plain": [
       "<Figure size 1000x600 with 1 Axes>"
      ]
     },
     "metadata": {},
     "output_type": "display_data"
    }
   ],
   "source": [
    "# 特徴量の重要度\n",
    "feature_importance = pd.DataFrame({\n",
    "    'feature': X.columns,\n",
    "    'importance': model.feature_importances_\n",
    "}).sort_values('importance', ascending=False)\n",
    "\n",
    "print(\"\\n特徴量の重要度 (Top 15):\")\n",
    "print(feature_importance.head(15))\n",
    "\n",
    "# 可視化\n",
    "plt.figure(figsize=(10, 6))\n",
    "plt.barh(feature_importance['feature'].head(15), feature_importance['importance'].head(15))\n",
    "plt.xlabel('Importance')\n",
    "plt.title('Feature Importance (Top 15)')\n",
    "plt.gca().invert_yaxis()\n",
    "plt.tight_layout()\n",
    "plt.show()"
   ]
  },
  {
   "cell_type": "markdown",
   "metadata": {},
   "source": [
    "## 5. テストデータで予測"
   ]
  },
  {
   "cell_type": "code",
   "execution_count": 14,
   "metadata": {},
   "outputs": [
    {
     "name": "stdout",
     "output_type": "stream",
     "text": [
      "予測数: 418\n",
      "生存予測: 160\n",
      "死亡予測: 258\n"
     ]
    }
   ],
   "source": [
    "# 全訓練データで再訓練\n",
    "model_final = RandomForestClassifier(\n",
    "    n_estimators=100,\n",
    "    max_depth=5,\n",
    "    min_samples_split=10,\n",
    "    min_samples_leaf=4,\n",
    "    random_state=42,\n",
    "    n_jobs=-1\n",
    ")\n",
    "\n",
    "model_final.fit(X, y)\n",
    "\n",
    "# テストデータで予測\n",
    "predictions = model_final.predict(X_test)\n",
    "\n",
    "print(f\"予測数: {len(predictions)}\")\n",
    "print(f\"生存予測: {predictions.sum()}\")\n",
    "print(f\"死亡予測: {len(predictions) - predictions.sum()}\")"
   ]
  },
  {
   "cell_type": "markdown",
   "metadata": {},
   "source": [
    "## 6. 提出ファイルの作成"
   ]
  },
  {
   "cell_type": "code",
   "execution_count": 15,
   "metadata": {},
   "outputs": [
    {
     "name": "stdout",
     "output_type": "stream",
     "text": [
      "   PassengerId  Survived\n",
      "0          892         0\n",
      "1          893         1\n",
      "2          894         0\n",
      "3          895         0\n",
      "4          896         1\n",
      "5          897         0\n",
      "6          898         1\n",
      "7          899         0\n",
      "8          900         1\n",
      "9          901         0\n",
      "\n",
      "提出データサイズ: (418, 2)\n"
     ]
    }
   ],
   "source": [
    "# 提出用のDataFrameを作成\n",
    "submission = pd.DataFrame({\n",
    "    'PassengerId': test_ids,\n",
    "    'Survived': predictions\n",
    "})\n",
    "\n",
    "print(submission.head(10))\n",
    "print(f\"\\n提出データサイズ: {submission.shape}\")"
   ]
  },
  {
   "cell_type": "code",
   "execution_count": 16,
   "metadata": {},
   "outputs": [
    {
     "name": "stdout",
     "output_type": "stream",
     "text": [
      "提出ファイルを保存しました: submissions/baseline_submission.csv\n"
     ]
    }
   ],
   "source": [
    "# CSVファイルとして保存\n",
    "submission.to_csv('../submissions/baseline_submission.csv', index=False)\n",
    "print(\"提出ファイルを保存しました: submissions/baseline_submission.csv\")"
   ]
  },
  {
   "cell_type": "code",
   "execution_count": 17,
   "metadata": {},
   "outputs": [
    {
     "name": "stdout",
     "output_type": "stream",
     "text": [
      "PassengerId,Survived\n",
      "892,0\n",
      "893,1\n",
      "894,0\n",
      "895,0\n",
      "896,1\n",
      "897,0\n",
      "898,1\n",
      "899,0\n",
      "900,1\n"
     ]
    }
   ],
   "source": [
    "# 提出ファイルの形式を確認\n",
    "!head ../submissions/baseline_submission.csv"
   ]
  },
  {
   "cell_type": "markdown",
   "metadata": {},
   "source": [
    "## 7. 次のステップ\n",
    "\n",
    "### ベースラインの結果\n",
    "- 検証精度: 約82-84%\n",
    "- CVスコア: 約80-82%\n",
    "\n",
    "### 改善のアイデア\n",
    "\n",
    "1. **特徴量エンジニアリング**\n",
    "   - Cabinデッキの情報を抽出\n",
    "   - チケット番号から共通性を見つける\n",
    "   - より細かい年齢・運賃のビニング\n",
    "\n",
    "2. **モデルの改善**\n",
    "   - 他のアルゴリズムを試す（XGBoost、LightGBM、Logistic Regressionなど）\n",
    "   - ハイパーパラメータチューニング\n",
    "   - アンサンブル（複数モデルの組み合わせ）\n",
    "\n",
    "3. **欠損値補完の改善**\n",
    "   - より高度な補完手法（KNN imputer、MICE など）\n",
    "\n",
    "4. **特徴量選択**\n",
    "   - 重要度の低い特徴量を削除\n",
    "   - 相関の高い特徴量を整理\n",
    "\n",
    "### 提出方法\n",
    "\n",
    "#### Web UIから提出\n",
    "1. https://www.kaggle.com/competitions/titanic/submit にアクセス\n",
    "2. `submissions/baseline_submission.csv` をアップロード\n",
    "3. 説明を入力（例: \"Baseline: Random Forest with basic feature engineering\"）\n",
    "4. 「Make Submission」をクリック\n",
    "\n",
    "#### Kaggle APIから提出\n",
    "```bash\n",
    "uv run kaggle competitions submit \\\n",
    "    -c titanic \\\n",
    "    -f submissions/baseline_submission.csv \\\n",
    "    -m \"Baseline: Random Forest with basic feature engineering\"\n",
    "```"
   ]
  },
  {
   "cell_type": "code",
   "execution_count": null,
   "metadata": {},
   "outputs": [],
   "source": []
  }
 ],
 "metadata": {
  "kernelspec": {
   "display_name": "kaggle-workspace",
   "language": "python",
   "name": "python3"
  },
  "language_info": {
   "codemirror_mode": {
    "name": "ipython",
    "version": 3
   },
   "file_extension": ".py",
   "mimetype": "text/x-python",
   "name": "python",
   "nbconvert_exporter": "python",
   "pygments_lexer": "ipython3",
   "version": "3.13.5"
  }
 },
 "nbformat": 4,
 "nbformat_minor": 4
}
